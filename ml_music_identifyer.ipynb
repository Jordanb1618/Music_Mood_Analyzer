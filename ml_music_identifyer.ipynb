{
 "cells": [
  {
   "cell_type": "code",
   "execution_count": 18,
   "id": "dcd89205-c739-40cf-9a13-65a28b5cea2c",
   "metadata": {},
   "outputs": [],
   "source": [
    "import pandas as pd\n",
    "import numpy as np\n",
    "import matplotlib.pylab as plt\n",
    "from itertools import cycle\n",
    "import seaborn as sns\n",
    "import kagglehub\n",
    "import os\n",
    "import cv2\n",
    "from glob import glob\n",
    "import librosa \n",
    "import librosa.display\n",
    "import IPython.display as ipd "
   ]
  },
  {
   "cell_type": "code",
   "execution_count": 19,
   "id": "352027d0-cbea-4b87-82ad-511320eb5b15",
   "metadata": {},
   "outputs": [],
   "source": [
    "sns.set_theme(style=\"white\", palette=None)\n",
    "color_pal = plt.rcParams[\"axes.prop_cycle\"].by_key()[\"color\"]\n",
    "color_cycle = cycle(plt.rcParams[\"axes.prop_cycle\"].by_key()[\"color\"])\n"
   ]
  },
  {
   "cell_type": "code",
   "execution_count": 20,
   "id": "7ac48fcc-565a-41f1-8907-5f7048bac1cc",
   "metadata": {},
   "outputs": [],
   "source": [
    "test_mp3_files = glob(r'../ml_music/test_data/*.mp3')\n",
    "\n",
    "y, sr = librosa.load(test_mp3_files[0])"
   ]
  },
  {
   "cell_type": "code",
   "execution_count": 21,
   "id": "0ca30ce2-c863-42ad-b152-9001195456a1",
   "metadata": {},
   "outputs": [],
   "source": [
    "def extract_mel_spectrogram(file_path, target_size=(128, 128)):\n",
    "    audio, sr = librosa.load(file_path, sr=22050)\n",
    "    mel_spec = librosa.feature.melspectrogram(y=audio, sr=sr, n_mels=128)\n",
    "    mel_spec_db = librosa.power_to_db(mel_spec, ref=np.max)\n",
    "    \n",
    "    # Normalize and resize\n",
    "    mel_spec_db = (mel_spec_db - mel_spec_db.min()) / (mel_spec_db.max() - mel_spec_db.min())\n",
    "    mel_spec_resized = cv2.resize(mel_spec_db, target_size)\n",
    "    \n",
    "    # Add channel dimension\n",
    "    return mel_spec_resized[..., np.newaxis]"
   ]
  },
  {
   "cell_type": "code",
   "execution_count": 22,
   "id": "5f1de9ae-f5bd-4875-90f4-cae405dbf157",
   "metadata": {},
   "outputs": [],
   "source": [
    "spectrograms = [extract_mel_spectrogram(file_path) for file_path in test_mp3_files]"
   ]
  },
  {
   "cell_type": "code",
   "execution_count": 23,
   "id": "f906885e-a258-4ac2-8f1c-144d7806289f",
   "metadata": {},
   "outputs": [],
   "source": [
    "Training_files = glob(r'../ml_music/moodsClassed/*.mp3')"
   ]
  },
  {
   "cell_type": "code",
   "execution_count": 24,
   "id": "94c14a17-82fc-4cf9-9de9-94c437f9b4c9",
   "metadata": {},
   "outputs": [
    {
     "data": {
      "text/plain": [
       "['../ml_music/moodsClassed\\\\Chill.mp3',\n",
       " '../ml_music/moodsClassed\\\\Chill1.mp3',\n",
       " '../ml_music/moodsClassed\\\\CHill2.mp3',\n",
       " '../ml_music/moodsClassed\\\\Chillbeat2.mp3',\n",
       " '../ml_music/moodsClassed\\\\Chillyy.mp3',\n",
       " '../ml_music/moodsClassed\\\\Chill_Lofi.mp3',\n",
       " '../ml_music/moodsClassed\\\\enenenrgy.mp3',\n",
       " '../ml_music/moodsClassed\\\\Energetic33.mp3',\n",
       " '../ml_music/moodsClassed\\\\Energy.mp3',\n",
       " '../ml_music/moodsClassed\\\\Energy3.mp3',\n",
       " '../ml_music/moodsClassed\\\\Energyyyy.mp3',\n",
       " '../ml_music/moodsClassed\\\\Relax.mp3',\n",
       " '../ml_music/moodsClassed\\\\Relaxblud.mp3',\n",
       " '../ml_music/moodsClassed\\\\Relaxing.mp3',\n",
       " '../ml_music/moodsClassed\\\\Relaxing2.mp3',\n",
       " '../ml_music/moodsClassed\\\\Upbeat1.mp3',\n",
       " '../ml_music/moodsClassed\\\\Upbeat2.mp3',\n",
       " '../ml_music/moodsClassed\\\\upbeat22.mp3',\n",
       " '../ml_music/moodsClassed\\\\Upbeat3.mp3',\n",
       " '../ml_music/moodsClassed\\\\Upbeatyy.mp3']"
      ]
     },
     "execution_count": 24,
     "metadata": {},
     "output_type": "execute_result"
    }
   ],
   "source": [
    "Training_files"
   ]
  },
  {
   "cell_type": "code",
   "execution_count": 25,
   "id": "f3fcf805-a75e-4d1a-b734-d092c0d41217",
   "metadata": {},
   "outputs": [],
   "source": [
    "categories = {\n",
    "    \"1\": [\"chill\"],\n",
    "    \"3\": [\"energy\", \"energetic\", \"enenenrgy\", \"enerrgy\"],\n",
    "    \"0\": [\"relax\", \"relaxing\"],\n",
    "    \"2\": [\"upbeat\", \"uppy\"]\n",
    "}\n"
   ]
  },
  {
   "cell_type": "code",
   "execution_count": 26,
   "id": "2abc5b8b-7206-4292-a6af-877dfe308116",
   "metadata": {},
   "outputs": [],
   "source": [
    "def classify_file(file_name, categories):\n",
    "    file_name_lower = file_name.lower()  # Make case-insensitive\n",
    "    for category, keywords in categories.items():\n",
    "        if any(keyword in file_name_lower for keyword in keywords):\n",
    "            return category\n",
    "    return \"Unknown\"  # If no keyword matches\n",
    "\n",
    "# Create a dictionary of file paths and their categories\n",
    "classified_files = {os.path.basename(file): classify_file(file, categories) for file in Training_files}"
   ]
  },
  {
   "cell_type": "code",
   "execution_count": 27,
   "id": "1d033064-ad76-4a09-912e-4665af69eb15",
   "metadata": {},
   "outputs": [
    {
     "data": {
      "text/plain": [
       "{'Chill.mp3': '1',\n",
       " 'Chill1.mp3': '1',\n",
       " 'CHill2.mp3': '1',\n",
       " 'Chillbeat2.mp3': '1',\n",
       " 'Chillyy.mp3': '1',\n",
       " 'Chill_Lofi.mp3': '1',\n",
       " 'enenenrgy.mp3': '3',\n",
       " 'Energetic33.mp3': '3',\n",
       " 'Energy.mp3': '3',\n",
       " 'Energy3.mp3': '3',\n",
       " 'Energyyyy.mp3': '3',\n",
       " 'Relax.mp3': '0',\n",
       " 'Relaxblud.mp3': '0',\n",
       " 'Relaxing.mp3': '0',\n",
       " 'Relaxing2.mp3': '0',\n",
       " 'Upbeat1.mp3': '2',\n",
       " 'Upbeat2.mp3': '2',\n",
       " 'upbeat22.mp3': '2',\n",
       " 'Upbeat3.mp3': '2',\n",
       " 'Upbeatyy.mp3': '2'}"
      ]
     },
     "execution_count": 27,
     "metadata": {},
     "output_type": "execute_result"
    }
   ],
   "source": [
    "classified_files"
   ]
  },
  {
   "cell_type": "code",
   "execution_count": 28,
   "id": "a04e597c-7ac3-44a3-b4cc-490039dbf8d4",
   "metadata": {},
   "outputs": [],
   "source": [
    "spectrogram_train = []  # List to store spectrograms\n",
    "labels = []  \n",
    "for file in Training_files:\n",
    "    try:\n",
    "        # Extract spectrogram\n",
    "        spectrogram = extract_mel_spectrogram(file)\n",
    "        \n",
    "        # Get classification\n",
    "        label = classify_file(file, categories)\n",
    "        \n",
    "        if spectrogram is not None and label != \"Unknown\":  # Ensure valid data\n",
    "            spectrogram_train.append(spectrogram)  # Add spectrogram to the list\n",
    "            labels.append(label)             # Add corresponding label\n",
    "    except Exception as e:\n",
    "        print(f\"Error processing file {file}: {e}\")"
   ]
  },
  {
   "cell_type": "code",
   "execution_count": 29,
   "id": "41729c13-fd52-4481-8bb0-6ee45dc93f48",
   "metadata": {},
   "outputs": [],
   "source": [
    "labels = np.array(labels)\n",
    "labels = labels.reshape(-1,)"
   ]
  },
  {
   "cell_type": "code",
   "execution_count": 30,
   "id": "66623d6f-2c83-4dfc-a617-ac50790b14f1",
   "metadata": {},
   "outputs": [],
   "source": [
    "def plot_sample(x, y, index):\n",
    "    plt.imshow(x[index])\n",
    "    plt.xlabel(labels[index])"
   ]
  },
  {
   "cell_type": "code",
   "execution_count": 31,
   "id": "55503f85-5f41-440d-886c-9c0ba8fd8961",
   "metadata": {},
   "outputs": [
    {
     "name": "stderr",
     "output_type": "stream",
     "text": [
      "C:\\Users\\jorda\\AppData\\Roaming\\Python\\Python312\\site-packages\\keras\\src\\layers\\reshaping\\flatten.py:37: UserWarning: Do not pass an `input_shape`/`input_dim` argument to a layer. When using Sequential models, prefer using an `Input(shape)` object as the first layer in the model instead.\n",
      "  super().__init__(**kwargs)\n"
     ]
    }
   ],
   "source": [
    "from tensorflow.keras import layers, models\n",
    "ann = models.Sequential([\n",
    "        layers.Flatten(input_shape=(128, 128, 1)),\n",
    "        layers.Dense(512, activation='relu'),\n",
    "        layers.Dense(256, activation='relu'),\n",
    "        layers.Dense(4, activation='softmax')    \n",
    "    ])\n",
    "\n",
    "ann.compile(optimizer='SGD',\n",
    "              loss='sparse_categorical_crossentropy',\n",
    "              metrics=['accuracy'])"
   ]
  },
  {
   "cell_type": "code",
   "execution_count": 32,
   "id": "f67f60ab-2a15-4c97-81f4-d8075d2b4e60",
   "metadata": {},
   "outputs": [],
   "source": [
    "spectrogram_train = np.array(spectrogram_train)"
   ]
  },
  {
   "cell_type": "code",
   "execution_count": 33,
   "id": "a7b3ab1c-d7d5-46ad-a9e9-478d7b6e1fc3",
   "metadata": {},
   "outputs": [],
   "source": [
    "labels = np.array(labels, dtype=np.int32)\n"
   ]
  },
  {
   "cell_type": "code",
   "execution_count": 34,
   "id": "0bb59a2e-9537-49c2-8491-34e02c27e2ed",
   "metadata": {},
   "outputs": [
    {
     "name": "stdout",
     "output_type": "stream",
     "text": [
      "Epoch 1/5\n",
      "\u001b[1m1/1\u001b[0m \u001b[32m━━━━━━━━━━━━━━━━━━━━\u001b[0m\u001b[37m\u001b[0m \u001b[1m1s\u001b[0m 631ms/step - accuracy: 0.3000 - loss: 1.5222\n",
      "Epoch 2/5\n",
      "\u001b[1m1/1\u001b[0m \u001b[32m━━━━━━━━━━━━━━━━━━━━\u001b[0m\u001b[37m\u001b[0m \u001b[1m0s\u001b[0m 96ms/step - accuracy: 0.2500 - loss: 1.9467\n",
      "Epoch 3/5\n",
      "\u001b[1m1/1\u001b[0m \u001b[32m━━━━━━━━━━━━━━━━━━━━\u001b[0m\u001b[37m\u001b[0m \u001b[1m0s\u001b[0m 97ms/step - accuracy: 0.4500 - loss: 1.5631\n",
      "Epoch 4/5\n",
      "\u001b[1m1/1\u001b[0m \u001b[32m━━━━━━━━━━━━━━━━━━━━\u001b[0m\u001b[37m\u001b[0m \u001b[1m0s\u001b[0m 111ms/step - accuracy: 0.4000 - loss: 1.3112\n",
      "Epoch 5/5\n",
      "\u001b[1m1/1\u001b[0m \u001b[32m━━━━━━━━━━━━━━━━━━━━\u001b[0m\u001b[37m\u001b[0m \u001b[1m0s\u001b[0m 116ms/step - accuracy: 0.3500 - loss: 1.4911\n"
     ]
    },
    {
     "data": {
      "text/plain": [
       "<keras.src.callbacks.history.History at 0x2f10e620b30>"
      ]
     },
     "execution_count": 34,
     "metadata": {},
     "output_type": "execute_result"
    }
   ],
   "source": [
    "ann.fit(spectrogram_train, labels, epochs=5)"
   ]
  },
  {
   "cell_type": "code",
   "execution_count": 35,
   "id": "387c6df1-e598-4db8-9ba0-12969d7d6b1c",
   "metadata": {},
   "outputs": [
    {
     "name": "stderr",
     "output_type": "stream",
     "text": [
      "C:\\Users\\jorda\\AppData\\Roaming\\Python\\Python312\\site-packages\\keras\\src\\layers\\convolutional\\base_conv.py:107: UserWarning: Do not pass an `input_shape`/`input_dim` argument to a layer. When using Sequential models, prefer using an `Input(shape)` object as the first layer in the model instead.\n",
      "  super().__init__(activity_regularizer=activity_regularizer, **kwargs)\n"
     ]
    }
   ],
   "source": [
    "cnn = models.Sequential([\n",
    "    layers.Conv2D(filters=32, kernel_size=(3, 3), activation='relu', input_shape=(128, 128, 1)),\n",
    "    layers.MaxPooling2D((2, 2)),\n",
    "    \n",
    "    layers.Conv2D(filters=64, kernel_size=(3, 3), activation='relu'),\n",
    "    layers.MaxPooling2D((2, 2)),\n",
    "    \n",
    "    layers.Flatten(),\n",
    "    layers.Dense(64, activation='relu'),\n",
    "    layers.Dense(10, activation='softmax')\n",
    "])\n",
    "\n",
    "cnn.compile(optimizer='adam',\n",
    "              loss='sparse_categorical_crossentropy',\n",
    "              metrics=['accuracy'])"
   ]
  },
  {
   "cell_type": "code",
   "execution_count": 36,
   "id": "16f9eec7-447c-42ff-aaa1-8be73a404794",
   "metadata": {},
   "outputs": [
    {
     "name": "stdout",
     "output_type": "stream",
     "text": [
      "Epoch 1/10\n",
      "\u001b[1m1/1\u001b[0m \u001b[32m━━━━━━━━━━━━━━━━━━━━\u001b[0m\u001b[37m\u001b[0m \u001b[1m2s\u001b[0m 2s/step - accuracy: 0.2500 - loss: 2.2703\n",
      "Epoch 2/10\n",
      "\u001b[1m1/1\u001b[0m \u001b[32m━━━━━━━━━━━━━━━━━━━━\u001b[0m\u001b[37m\u001b[0m \u001b[1m0s\u001b[0m 196ms/step - accuracy: 0.3000 - loss: 2.1703\n",
      "Epoch 3/10\n",
      "\u001b[1m1/1\u001b[0m \u001b[32m━━━━━━━━━━━━━━━━━━━━\u001b[0m\u001b[37m\u001b[0m \u001b[1m0s\u001b[0m 197ms/step - accuracy: 0.4500 - loss: 1.4904\n",
      "Epoch 4/10\n",
      "\u001b[1m1/1\u001b[0m \u001b[32m━━━━━━━━━━━━━━━━━━━━\u001b[0m\u001b[37m\u001b[0m \u001b[1m0s\u001b[0m 235ms/step - accuracy: 0.4000 - loss: 1.5552\n",
      "Epoch 5/10\n",
      "\u001b[1m1/1\u001b[0m \u001b[32m━━━━━━━━━━━━━━━━━━━━\u001b[0m\u001b[37m\u001b[0m \u001b[1m0s\u001b[0m 214ms/step - accuracy: 0.3500 - loss: 1.2358\n",
      "Epoch 6/10\n",
      "\u001b[1m1/1\u001b[0m \u001b[32m━━━━━━━━━━━━━━━━━━━━\u001b[0m\u001b[37m\u001b[0m \u001b[1m0s\u001b[0m 252ms/step - accuracy: 0.5000 - loss: 1.1283\n",
      "Epoch 7/10\n",
      "\u001b[1m1/1\u001b[0m \u001b[32m━━━━━━━━━━━━━━━━━━━━\u001b[0m\u001b[37m\u001b[0m \u001b[1m0s\u001b[0m 215ms/step - accuracy: 0.6000 - loss: 1.0712\n",
      "Epoch 8/10\n",
      "\u001b[1m1/1\u001b[0m \u001b[32m━━━━━━━━━━━━━━━━━━━━\u001b[0m\u001b[37m\u001b[0m \u001b[1m0s\u001b[0m 191ms/step - accuracy: 0.7500 - loss: 0.9619\n",
      "Epoch 9/10\n",
      "\u001b[1m1/1\u001b[0m \u001b[32m━━━━━━━━━━━━━━━━━━━━\u001b[0m\u001b[37m\u001b[0m \u001b[1m0s\u001b[0m 215ms/step - accuracy: 0.9500 - loss: 0.9021\n",
      "Epoch 10/10\n",
      "\u001b[1m1/1\u001b[0m \u001b[32m━━━━━━━━━━━━━━━━━━━━\u001b[0m\u001b[37m\u001b[0m \u001b[1m0s\u001b[0m 195ms/step - accuracy: 0.8500 - loss: 0.7771\n"
     ]
    },
    {
     "data": {
      "text/plain": [
       "<keras.src.callbacks.history.History at 0x2f10605f920>"
      ]
     },
     "execution_count": 36,
     "metadata": {},
     "output_type": "execute_result"
    }
   ],
   "source": [
    "cnn.fit(spectrogram_train, labels, epochs=10)"
   ]
  },
  {
   "cell_type": "code",
   "execution_count": 38,
   "id": "2584ed8b-333b-4a11-9493-2db308b00a2d",
   "metadata": {
    "scrolled": true
   },
   "outputs": [
    {
     "data": {
      "text/plain": [
       "['../ml_music/test_data\\\\10.mp3',\n",
       " '../ml_music/test_data\\\\12.mp3',\n",
       " '../ml_music/test_data\\\\13.mp3',\n",
       " '../ml_music/test_data\\\\17.mp3',\n",
       " '../ml_music/test_data\\\\18.mp3',\n",
       " '../ml_music/test_data\\\\19.mp3',\n",
       " '../ml_music/test_data\\\\2.mp3',\n",
       " '../ml_music/test_data\\\\20.mp3',\n",
       " '../ml_music/test_data\\\\21.mp3',\n",
       " '../ml_music/test_data\\\\22.mp3',\n",
       " '../ml_music/test_data\\\\24.mp3',\n",
       " '../ml_music/test_data\\\\25.mp3',\n",
       " '../ml_music/test_data\\\\3.mp3',\n",
       " '../ml_music/test_data\\\\31.mp3',\n",
       " '../ml_music/test_data\\\\32.mp3',\n",
       " '../ml_music/test_data\\\\35.mp3',\n",
       " '../ml_music/test_data\\\\39.mp3',\n",
       " '../ml_music/test_data\\\\4.mp3',\n",
       " '../ml_music/test_data\\\\40.mp3',\n",
       " '../ml_music/test_data\\\\41.mp3',\n",
       " '../ml_music/test_data\\\\42.mp3',\n",
       " '../ml_music/test_data\\\\43.mp3',\n",
       " '../ml_music/test_data\\\\44.mp3',\n",
       " '../ml_music/test_data\\\\45.mp3',\n",
       " '../ml_music/test_data\\\\46.mp3',\n",
       " '../ml_music/test_data\\\\47.mp3',\n",
       " '../ml_music/test_data\\\\48.mp3',\n",
       " '../ml_music/test_data\\\\5.mp3',\n",
       " '../ml_music/test_data\\\\7.mp3',\n",
       " '../ml_music/test_data\\\\8.mp3']"
      ]
     },
     "execution_count": 38,
     "metadata": {},
     "output_type": "execute_result"
    }
   ],
   "source": [
    "test_mp3_files"
   ]
  },
  {
   "cell_type": "code",
   "execution_count": null,
   "id": "e95dadef-fe0d-4a8b-9d05-e121c04a7065",
   "metadata": {},
   "outputs": [],
   "source": []
  },
  {
   "cell_type": "code",
   "execution_count": null,
   "id": "68e9fb60-5edc-4320-8d3f-285d9ce771ab",
   "metadata": {},
   "outputs": [],
   "source": []
  },
  {
   "cell_type": "code",
   "execution_count": null,
   "id": "53e6dd5d-7abd-4957-a117-3c668ca15b57",
   "metadata": {},
   "outputs": [],
   "source": []
  }
 ],
 "metadata": {
  "kernelspec": {
   "display_name": "Python 3 (ipykernel)",
   "language": "python",
   "name": "python3"
  },
  "language_info": {
   "codemirror_mode": {
    "name": "ipython",
    "version": 3
   },
   "file_extension": ".py",
   "mimetype": "text/x-python",
   "name": "python",
   "nbconvert_exporter": "python",
   "pygments_lexer": "ipython3",
   "version": "3.12.5"
  }
 },
 "nbformat": 4,
 "nbformat_minor": 5
}
